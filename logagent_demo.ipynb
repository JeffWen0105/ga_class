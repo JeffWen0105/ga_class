{
 "cells": [
  {
   "cell_type": "code",
   "execution_count": 1,
   "id": "automotive-riverside",
   "metadata": {},
   "outputs": [
    {
     "name": "stdout",
     "output_type": "stream",
     "text": [
      "/home/jeffwen/datainput\n"
     ]
    }
   ],
   "source": [
    "! pwd"
   ]
  },
  {
   "cell_type": "markdown",
   "id": "apart-penetration",
   "metadata": {},
   "source": [
    "## Logagent Example \n",
    ">檔案下載位置:\n",
    ">http://download.sensorsdata.cn/release/logagent/logagent_20191227.tgz\n",
    "\n",
    ">需求條件： java 8 runtime ，可至原廠oracle下載免費的JRE或是使用開源版的openJDK or JRE\n",
    ">https://www.oracle.com/tw/java/technologies/javase-jre8-downloads.html"
   ]
  },
  {
   "cell_type": "markdown",
   "id": "uniform-member",
   "metadata": {},
   "source": [
    "---"
   ]
  },
  {
   "cell_type": "code",
   "execution_count": null,
   "id": "north-bottom",
   "metadata": {},
   "outputs": [],
   "source": [
    "! pip3 install SensorsAnalyticsSDK # 使用神策SDK快速建構神策JSON格式"
   ]
  },
  {
   "cell_type": "markdown",
   "id": "changed-conversation",
   "metadata": {},
   "source": [
    "## 創建神策SDK物件"
   ]
  },
  {
   "cell_type": "code",
   "execution_count": 7,
   "id": "rural-action",
   "metadata": {},
   "outputs": [],
   "source": [
    "import sensorsanalytics\n",
    "\n",
    "# 當快取的數據量達到該參數值，批量輸出數據\n",
    "SA_BULK_SIZE = 1024\n",
    "\n",
    "# 初始化 ConcurrentLoggingConsumer，寫入文件 '/home/jeffwen/datainput/data/test_log.YYYY-MM-DD' 中\n",
    "consumer = sensorsanalytics.ConcurrentLoggingConsumer('/home/jeffwen/datainput/data/test_log', SA_BULK_SIZE)\n",
    "\n",
    "# 使用 Consumer 來創建 SensorsAnalytics 物件\n",
    "sa = sensorsanalytics.SensorsAnalytics(consumer)"
   ]
  },
  {
   "cell_type": "markdown",
   "id": "medical-observer",
   "metadata": {},
   "source": [
    "---"
   ]
  },
  {
   "cell_type": "markdown",
   "id": "derived-carnival",
   "metadata": {},
   "source": [
    "## 產生Event格式"
   ]
  },
  {
   "cell_type": "code",
   "execution_count": 10,
   "id": "hidden-hacker",
   "metadata": {},
   "outputs": [],
   "source": [
    "import datetime"
   ]
  },
  {
   "cell_type": "code",
   "execution_count": 11,
   "id": "south-oliver",
   "metadata": {},
   "outputs": [],
   "source": [
    "distinct_id = 'A123456789'\n",
    "\n",
    "properties = {\n",
    "\n",
    "'$time' : datetime.datetime.now(),\n",
    "# 商品 ID\n",
    "'ProductId' : '123456',\n",
    "# 商品類別\n",
    "'ProductCatalog' : 'Laptop Computer',\n",
    "# 是否加入我的最爱\n",
    "'IsAddedToFav' : True,\n",
    "}\n",
    "\n",
    "# 產生Event格式數據\n",
    "sa.track(distinct_id, 'ViewProduct', properties)"
   ]
  },
  {
   "cell_type": "code",
   "execution_count": 12,
   "id": "measured-capacity",
   "metadata": {},
   "outputs": [],
   "source": [
    "sa.flush()"
   ]
  },
  {
   "cell_type": "code",
   "execution_count": 13,
   "id": "novel-month",
   "metadata": {},
   "outputs": [
    {
     "name": "stdout",
     "output_type": "stream",
     "text": [
      "{\"type\":\"track\",\"time\":1615779489340,\"distinct_id\":\"A123456789\",\"properties\":{\"$lib\":\"python\",\"$lib_version\":\"1.10.1\",\"ProductId\":\"123456\",\"ProductCatalog\":\"Laptop Computer\",\"IsAddedToFav\":true},\"lib\":{\"$lib\":\"python\",\"$lib_version\":\"1.10.1\",\"$lib_method\":\"code\",\"$lib_detail\":\"exec####<ipython-input-11-d80d0083ecfd>##15\"},\"event\":\"ViewProduct\"}\n"
     ]
    }
   ],
   "source": [
    "! head -n 1 data/*"
   ]
  },
  {
   "cell_type": "markdown",
   "id": "hawaiian-extraction",
   "metadata": {},
   "source": [
    "## 產生User格式"
   ]
  },
  {
   "cell_type": "code",
   "execution_count": 14,
   "id": "referenced-eleven",
   "metadata": {},
   "outputs": [],
   "source": [
    "distinct_id = 'A123456789'\n",
    "\n",
    "properties = {\n",
    "# 用戶性別\n",
    "'Sex' : 'Male',\n",
    "# 用戶等級\n",
    "'UserLevel' : 'Elite VIP',\n",
    "}\n",
    "\n",
    "# 產生User格式數據\n",
    "sa.profile_set(distinct_id, properties)"
   ]
  },
  {
   "cell_type": "code",
   "execution_count": 15,
   "id": "conditional-inquiry",
   "metadata": {},
   "outputs": [],
   "source": [
    "sa.flush()"
   ]
  },
  {
   "cell_type": "code",
   "execution_count": 16,
   "id": "structured-description",
   "metadata": {},
   "outputs": [
    {
     "name": "stdout",
     "output_type": "stream",
     "text": [
      "{\"type\":\"profile_set\",\"time\":1615779686605,\"distinct_id\":\"A123456789\",\"properties\":{\"Sex\":\"Male\",\"UserLevel\":\"Elite VIP\"},\"lib\":{\"$lib\":\"python\",\"$lib_version\":\"1.10.1\",\"$lib_method\":\"code\",\"$lib_detail\":\"exec####<ipython-input-14-693257d880a5>##11\"}}\n"
     ]
    }
   ],
   "source": [
    "! tail -n 1 data/*"
   ]
  }
 ],
 "metadata": {
  "kernelspec": {
   "display_name": "Python 3",
   "language": "python",
   "name": "python3"
  },
  "language_info": {
   "codemirror_mode": {
    "name": "ipython",
    "version": 3
   },
   "file_extension": ".py",
   "mimetype": "text/x-python",
   "name": "python",
   "nbconvert_exporter": "python",
   "pygments_lexer": "ipython3",
   "version": "3.6.8"
  }
 },
 "nbformat": 4,
 "nbformat_minor": 5
}
